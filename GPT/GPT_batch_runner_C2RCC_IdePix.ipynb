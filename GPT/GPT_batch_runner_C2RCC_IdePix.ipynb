{
 "cells": [
  {
   "cell_type": "markdown",
   "metadata": {},
   "source": [
    "# GPT batch runner; OLCI L1 to L2 (C2RCC & IdePix)"
   ]
  },
  {
   "cell_type": "markdown",
   "metadata": {},
   "source": [
    "    Version: 2.0\n",
    "    Date:    10/04/2019\n",
    "    Author:  Ben Loveday and Hayley Evers-King (Plymouth Marine Laboratory)\n",
    "    Credit:  This code was developed for EUMETSAT under contracts for the Copernicus \n",
    "             programme.\n",
    "    License: This code is offered as free-to-use in the public domain, with no warranty."
   ]
  },
  {
   "cell_type": "markdown",
   "metadata": {},
   "source": [
    "This routine shows an example of how to use python to call SNAP's GPT processor, to allow automated processing of S3A OLCI images from L1 to L2. GPT runs according to a 'graph' that can be built in SNAP and is stored as a .xml file. The example graph here performs three tasks:\n",
    "\n",
    "    1. Subsets the input data (to save time)\n",
    "    2. Runs to IdePix cloud processor on the subset data\n",
    "    3. Runs the C2RCC processor on the subset data\n",
    "    4. Merges the IdePix and C2RCC output into a single netcdF output file\n",
    "\n",
    "However, this basic script can be used/adapted to run any graph using SNAPs capability from the command line. With minimal adaptation this script can be re-written for calling through an automated shell script (in Linux), rather than being called through Jupyter. Here, we will only consider the Jupyter context, as it works across all platforms."
   ]
  },
  {
   "cell_type": "markdown",
   "metadata": {},
   "source": [
    "We begin by importing some python modules"
   ]
  },
  {
   "cell_type": "code",
   "execution_count": 1,
   "metadata": {},
   "outputs": [],
   "source": [
    "import os, shutil, subprocess\n",
    "from os import path, listdir, system\n",
    "import fnmatch\n",
    "import fileinput\n",
    "import platform"
   ]
  },
  {
   "cell_type": "markdown",
   "metadata": {},
   "source": [
    "Next we have to tell our code where the GPT executable is. The default path is hown below, but you may have to adapt this depending on where you installed SNAP."
   ]
  },
  {
   "cell_type": "code",
   "execution_count": 2,
   "metadata": {},
   "outputs": [],
   "source": [
    "# set up the environment, path to your data\n",
    "# e.g. MYPATH = os.path.join(\"C:/\",\"Users\",\"me\",\"Desktop\")\n",
    "MYPATH = os.path.join(\"C:/\",\"Users\",\"docle\",\"Desktop\",\"OSOS_notebooks\") # this needs to be changed to your directory\n",
    "\n",
    "# set up the environment, path to your gpt processor\n",
    "# e.g. GPTPATH = os.path.join(\"C:/\",\"Program Files\",\"snap\",\"bin\",\"gpt.exe\")\n",
    "GPTPATH = os.path.join(\"C:/\",\"Program Files\",\"snap\",\"bin\",\"gpt.exe\")"
   ]
  },
  {
   "cell_type": "markdown",
   "metadata": {},
   "source": [
    "Quick adaptation of the path to make sure it works on windows"
   ]
  },
  {
   "cell_type": "code",
   "execution_count": 3,
   "metadata": {},
   "outputs": [],
   "source": [
    "# accommodate spaces in windows paths....\n",
    "if platform.system().lower() == 'windows':\n",
    "    GPTPATH = '\"' + GPTPATH + '\"'"
   ]
  },
  {
   "cell_type": "markdown",
   "metadata": {},
   "source": [
    "Now we must point the code to our config file (in the same directory as this file), and the data we downloaded. It is the configuration file that describes the processes that SNAP will perform in our automated chain."
   ]
  },
  {
   "cell_type": "code",
   "execution_count": 4,
   "metadata": {},
   "outputs": [],
   "source": [
    "# define your graph xml, and input and output directory paths\n",
    "template_xml = 'config_template.xml'\n",
    "input_dir = os.path.join(MYPATH,'GPT_L1_test_data')\n",
    "output_dir = os.path.join(os.getcwd(),'GPT_L2_C2RCC_OUTPUT')\n",
    "\n",
    "if not os.path.exists(output_dir):\n",
    "    os.mkdir(output_dir)"
   ]
  },
  {
   "cell_type": "markdown",
   "metadata": {},
   "source": [
    "Now we search the input directory to find Level-1 Sentinel-3 data"
   ]
  },
  {
   "cell_type": "code",
   "execution_count": 5,
   "metadata": {},
   "outputs": [
    {
     "name": "stdout",
     "output_type": "stream",
     "text": [
      "C:/Users\\docle\\Desktop\\ocean-olly_wekeo_changes\\GPT_L1_test_data\\S3A_OL_1_EFR____20181027T082308_20181027T082608_20181028T140235_0179_037_192_3420_MAR_O_NT_002.SEN3\\xfdumanifest.xml\n"
     ]
    }
   ],
   "source": [
    "# make a list of all the input files in your input directory\n",
    "input_files=[]\n",
    "for root, _, filenames in os.walk(input_dir):\n",
    "    for filename in fnmatch.filter(filenames, '*xfdumanifest.xml'):\n",
    "        input_files.append(os.path.join(root, filename))\n",
    "        \n",
    "# and show the list        \n",
    "for input_file in input_files:\n",
    "    print(input_file)"
   ]
  },
  {
   "cell_type": "markdown",
   "metadata": {},
   "source": [
    "And finally, we start the main part of our code, where we call GPT to process this L1 data. "
   ]
  },
  {
   "cell_type": "code",
   "execution_count": 7,
   "metadata": {
    "scrolled": true
   },
   "outputs": [
    {
     "name": "stdout",
     "output_type": "stream",
     "text": [
      "Processing: xfdumanifest.xml\n",
      "To: S3A_OL_1_EFR____20181027T082308_20181027T082608_20181028T140235_0179_037_192_3420_MAR_O_NT_002_SUBSET_IDEPIX_C2RCC.nc\n",
      "Generating config: C:\\Users\\docle\\Desktop\\ocean-olly_wekeo_changes\\GPT\\GPT_L2_C2RCC_OUTPUT\\run_config.xml\n",
      "Config ready; running: \"C:/Program Files\\snap\\bin\\gpt.exe\" C:\\Users\\docle\\Desktop\\ocean-olly_wekeo_changes\\GPT\\GPT_L2_C2RCC_OUTPUT\\run_config.xml\n",
      "Finished running: C:\\Users\\docle\\Desktop\\ocean-olly_wekeo_changes\\GPT\\GPT_L2_C2RCC_OUTPUT\\run_config.xml\n"
     ]
    }
   ],
   "source": [
    "# MAIN\n",
    "# this is the loop where the magic happens :-)\n",
    "# the loop goes over each input file in the input_files list\n",
    "for input_file in input_files:\n",
    "    file_tag = os.path.basename(os.path.dirname(input_file))\n",
    "    file_tag = file_tag.replace('.SEN3','')\n",
    "    output_file = input_file.replace(input_dir,output_dir)\n",
    "    output_file = os.path.dirname(output_file).replace('.SEN3','_SUBSET_IDEPIX_C2RCC.nc')\n",
    "\n",
    "    # the output file is named from the input file with the _C2RCCC suffix.\n",
    "    # It will be a netCDF file in our example.\n",
    "    print('Processing: '+str(os.path.basename(input_file)))\n",
    "    print('To: '+str(os.path.basename(output_file)))\n",
    "    \n",
    "    # now adapt the config xml file for this specific input_file\n",
    "    my_config = os.path.join(output_dir,'run_config.xml')\n",
    "    if os.path.exists(my_config):\n",
    "        os.remove(my_config)\n",
    "\n",
    "    print('Generating config: '+str(my_config))\n",
    "    shutil.copy(template_xml, my_config)\n",
    "\n",
    "    # Read in the file\n",
    "    with open(my_config, 'r') as file :\n",
    "        filedata = file.read()\n",
    "    # Replace the target string\n",
    "    filedata = filedata.replace('SOURCE_PRODUCT', input_file)\n",
    "    # Write the file out again\n",
    "    with open(my_config, 'w') as file:\n",
    "        file.write(filedata)\n",
    "\n",
    "    # Read in the file\n",
    "    with open(my_config, 'r') as file :\n",
    "        filedata = file.read()\n",
    "    # Replace the target string\n",
    "    filedata = filedata.replace('OUTPUT_PRODUCT', output_file)\n",
    "    # Write the file out again\n",
    "    with open(my_config, 'w') as file:\n",
    "        file.write(filedata)\n",
    "\n",
    "    # the processing call is a follows below.\n",
    "    c2rcc_processingCall = GPTPATH + ' ' + my_config\n",
    "\n",
    "    # useful to check that the command call is correct before launching the call (comment / uncomment the next line)\n",
    "    print('Config ready; running: ' + c2rcc_processingCall)\n",
    "\n",
    "    # python call, uncomment when the printed call satisfies your requirements\n",
    "    process = subprocess.Popen(c2rcc_processingCall, shell=True, stdout=subprocess.PIPE)\n",
    "    process.wait()\n",
    "    print('Finished running: ' + my_config)"
   ]
  },
  {
   "cell_type": "code",
   "execution_count": null,
   "metadata": {},
   "outputs": [],
   "source": []
  }
 ],
 "metadata": {
  "kernelspec": {
   "display_name": "Python 3",
   "language": "python",
   "name": "python3"
  },
  "language_info": {
   "codemirror_mode": {
    "name": "ipython",
    "version": 3
   },
   "file_extension": ".py",
   "mimetype": "text/x-python",
   "name": "python",
   "nbconvert_exporter": "python",
   "pygments_lexer": "ipython3",
   "version": "3.8.5"
  }
 },
 "nbformat": 4,
 "nbformat_minor": 2
}
