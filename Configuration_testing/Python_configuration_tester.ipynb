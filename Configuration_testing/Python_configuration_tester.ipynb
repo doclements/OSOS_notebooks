{
 "cells": [
  {
   "cell_type": "markdown",
   "metadata": {},
   "source": [
    "# Python configuration tester"
   ]
  },
  {
   "cell_type": "markdown",
   "metadata": {},
   "source": [
    "    Version: 1.0\n",
    "    Date:    12/03/2019\n",
    "    Author:  Ben Loveday and Hayley Evers-King (Plymouth Marine Laboratory)\n",
    "    Credit:  This code was developed for EUMETSAT under contracts for the Copernicus \n",
    "             programme.\n",
    "    License: This code is offered as open source and free-to-use in the public domain, \n",
    "             with no warranty."
   ]
  },
  {
   "cell_type": "markdown",
   "metadata": {},
   "source": [
    "Running this script will test if you have all the necessary modules installed for the EUMETSAT Copernicus Marine training course. If this runs successfully it will print \"All imported ok\" in the panel at the bottom of the screen. If a module is not properly installed, it will print at the bottom of the screen, along with suggested instructions of how to install it."
   ]
  },
  {
   "cell_type": "code",
   "execution_count": 1,
   "metadata": {},
   "outputs": [
    {
     "name": "stdout",
     "output_type": "stream",
     "text": [
      "------------------------------------------------------\n",
      "Everything required is installed - you are good to go!\n",
      "------------------------------------------------------\n"
     ]
    }
   ],
   "source": [
    "import warnings\n",
    "warnings.filterwarnings('ignore')\n",
    "\n",
    "\n",
    "required_modules = ['os', 'sys', 'shutil', 'warnings', 'fnmatch', 'datetime', 'logging',\\\n",
    "                    're', 'requests', 'lxml', 'glob', 'tempfile', 'configparser',\\\n",
    "                    'fileinput', 'subprocess', 'numpy', 'netCDF4', 'xarray', 'matplotlib',\\\n",
    "                    'cartopy','math','pandas','shapely', 'gdal']\n",
    "\n",
    "optional_modules = ['plotly','scipy','rasterio','earthpy','sklearn']\n",
    "\n",
    "missing_module_flag = False\n",
    "\n",
    "for module in required_modules:\n",
    "    cmd='import ' + module\n",
    "    try:\n",
    "        exec(cmd)\n",
    "    except:\n",
    "        missing_module_flag = True\n",
    "        print('Required module ' + module + ' not installed')\n",
    "\n",
    "for module in optional_modules:\n",
    "    cmd='import ' + module\n",
    "    try:\n",
    "        exec(cmd)\n",
    "    except:\n",
    "        missing_module_flag = True\n",
    "        print('Optional module ' + module + ' not installed')\n",
    "\n",
    "if missing_module_flag:\n",
    "    print('------------------------------------------------------')\n",
    "    print('To install a package, please run the following in your conda prompt:')\n",
    "    print(' ')    \n",
    "    print('conda install <replace-with-missing-module-name>')\n",
    "    print(' ')    \n",
    "    print(' -------- or --------')\n",
    "    print(' ')\n",
    "    print('conda install -c conda-forge <replace-with-missing-module-name>')\n",
    "    print('------------------------------------------------------')\n",
    "else:\n",
    "    print('------------------------------------------------------')\n",
    "    print('Everything required is installed - you are good to go!')  \n",
    "    print('------------------------------------------------------')"
   ]
  },
  {
   "cell_type": "code",
   "execution_count": null,
   "metadata": {},
   "outputs": [],
   "source": []
  }
 ],
 "metadata": {
  "kernelspec": {
   "display_name": "Python 3",
   "language": "python",
   "name": "python3"
  },
  "language_info": {
   "codemirror_mode": {
    "name": "ipython",
    "version": 3
   },
   "file_extension": ".py",
   "mimetype": "text/x-python",
   "name": "python",
   "nbconvert_exporter": "python",
   "pygments_lexer": "ipython3",
   "version": "3.6.10"
  }
 },
 "nbformat": 4,
 "nbformat_minor": 2
}
