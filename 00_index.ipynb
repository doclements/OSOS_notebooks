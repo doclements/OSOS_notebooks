{
 "cells": [
  {
   "cell_type": "markdown",
   "metadata": {},
   "source": [
    " <img src='./img/EU-Copernicus-EUM_3Logos.png' alt='Logo EU Copernicus EUMETSAT'  width='100%'></img>\n",
    " </br>\n",
    "# OSOS Training Notebooks\n",
    "\n",
    "This is a collection of Python [link] Jupyter [link] notebooks covering core principles such as; data searching and access, data download, and data processing using SNAP."
   ]
  },
  {
   "cell_type": "markdown",
   "metadata": {},
   "source": [
    "These notebooks provide information on the use of the CODA API to get data as well as the GPT command line utility to process files. There are links below to the main sections. \n",
    "\n",
    " * [CODA API examples](./Python_Universal_Sentinel_Downloader)\n",
    " * [GPT example](./GPT/GPT_batch_runner_C2RCC_IdePix.ipynb)\n",
    " "
   ]
  },
  {
   "cell_type": "markdown",
   "metadata": {},
   "source": [
    "<br> <a href=\"./index_ocean.ipynb\"><< Index</a><span style=\"float:right;\"><a href=\".//Python_Universal_Sentinel_Downloader\">11 - Ocean and Land Colour Instrument - Overview and data access >></a>  <hr> <p style=\"text-align:left;\">This project is licensed under the <a href=\"/edit/LICENSE\">MIT License</a> <span style=\"float:right;\"><a href=\"https://gitlab.eumetsat.int/eo-lab-usc-open/ocean\">View on GitLab</a> | <a href=\"https://training.eumetsat.int/\">EUMETSAT Training</a> | <a href=mailto:training@eumetsat.int>Contact</a></span></p>"
   ]
  },
  {
   "cell_type": "code",
   "execution_count": null,
   "metadata": {},
   "outputs": [],
   "source": []
  }
 ],
 "metadata": {
  "kernelspec": {
   "display_name": "Python 3",
   "language": "python",
   "name": "python3"
  },
  "language_info": {
   "codemirror_mode": {
    "name": "ipython",
    "version": 3
   },
   "file_extension": ".py",
   "mimetype": "text/x-python",
   "name": "python",
   "nbconvert_exporter": "python",
   "pygments_lexer": "ipython3",
   "version": "3.8.5"
  }
 },
 "nbformat": 4,
 "nbformat_minor": 2
}
