{
 "cells": [
  {
   "cell_type": "markdown",
   "metadata": {},
   "source": [
    "# Sentinel-3 filename decoder"
   ]
  },
  {
   "cell_type": "markdown",
   "metadata": {},
   "source": [
    "    Version: 1.0\n",
    "    Date:    12/03/2019\n",
    "    Author:  Ben Loveday and Hayley Evers-King (Plymouth Marine Laboratory)\n",
    "    Credit:  This code was developed for EUMETSAT under contracts for the Copernicus \n",
    "             programme.\n",
    "    License: This code is offered as open source and free-to-use in the public domain, \n",
    "             with no warranty."
   ]
  },
  {
   "cell_type": "markdown",
   "metadata": {},
   "source": [
    "You can apply this script to any Sentinel-3 filename. It will decode the filename and tell you what each of the parts of the filename mean. To run the script, click the \"kernel\" option and choose \"restart and run all\". This will create a white text box below. Copy your Sentinel-3 file name into the text box and hit \"Enter\" to produce output that decodes your file name."
   ]
  },
  {
   "cell_type": "code",
   "execution_count": 1,
   "metadata": {},
   "outputs": [
    {
     "data": {
      "application/vnd.jupyter.widget-view+json": {
       "model_id": "4002f5b45c0e4d049a8d84fc5bc7a437",
       "version_major": 2,
       "version_minor": 0
      },
      "text/plain": [
       "Text(value='', placeholder='Please copy & paste your Sentinel-3 filename here...')"
      ]
     },
     "metadata": {},
     "output_type": "display_data"
    },
    {
     "name": "stdout",
     "output_type": "stream",
     "text": [
      "Mission ID : S3B\n",
      "Data Source : SL\n",
      "Processing Level : 2\n",
      "Data Type ID : WST___\n",
      "Sensing Start Time : 20190530T201523\n",
      "Sensing End Time : 20190530T215622\n",
      "Creation Date : 20190601T040220\n",
      "Instance (Duration) : 6059\n",
      "Instance (Cycle number) : 026\n",
      "Instance (Relative orbit number) : 042\n",
      "Instance (Frame coordinate) : None (dump product)\n",
      "Product Generation Centre : MAR\n",
      "Class ID (Platform) : O\n",
      "Class ID (Timeliness) : NT (Non time critical)\n",
      "Class ID (Baseline collection) : 003\n",
      "====================================================\n",
      "This is a Sentinel-3B Level 2 Surface Topography Mission product\n",
      "====================================================\n"
     ]
    }
   ],
   "source": [
    "import Widget_Functions as wf\n",
    "wf.text_box()"
   ]
  },
  {
   "cell_type": "code",
   "execution_count": null,
   "metadata": {},
   "outputs": [],
   "source": []
  }
 ],
 "metadata": {
  "kernelspec": {
   "display_name": "Python 3",
   "language": "python",
   "name": "python3"
  },
  "language_info": {
   "codemirror_mode": {
    "name": "ipython",
    "version": 3
   },
   "file_extension": ".py",
   "mimetype": "text/x-python",
   "name": "python",
   "nbconvert_exporter": "python",
   "pygments_lexer": "ipython3",
   "version": "3.6.10"
  }
 },
 "nbformat": 4,
 "nbformat_minor": 2
}
